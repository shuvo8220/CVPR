{
  "nbformat": 4,
  "nbformat_minor": 0,
  "metadata": {
    "colab": {
      "provenance": []
    },
    "kernelspec": {
      "name": "python3",
      "display_name": "Python 3"
    },
    "language_info": {
      "name": "python"
    }
  },
  "cells": [
    {
      "cell_type": "markdown",
      "source": [
        "To implement multi-class classification, several key modifications were made to the original neural network code. First, the simple XOR dataset was replaced with a synthetic dataset generated using Scikit-learn’s make_classification, which provided a more realistic problem involving 1000 samples, 10 input features, and 5 output classes. To handle these multiple classes, the target labels were transformed using one-hot encoding with OneHotEncoder, and the neural network’s architecture was expanded to support a higher-dimensional input and output. The number of neurons in the final layer was set equal to the number of classes to allow for proper multi-class predictions. The training loop was adapted to calculate the output error across all output neurons, and weight updates were adjusted accordingly. Throughout the code, comments were added to explain the function of each section, such as data preprocessing, forward propagation, backpropagation, and performance evaluation. Challenges during implementation included reshaping label data for one-hot encoding, modifying the network to accommodate multiple outputs, and ensuring numerical stability during training. These were resolved by careful handling of data shapes, testing layer configurations, and initializing weights with small values to prevent exploding gradients. These steps successfully extended the binary neural network into a functional multi-class classification model.\n",
        "\n",
        "Mathematical formulas used in the neural network include the sigmoid activation function:\n",
        "\n",
        "\n",
        "\n",
        "![Screenshot_575.png](data:image/png;base64,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)\n",
        "\n",
        "\n",
        "\n",
        "This function maps any real-valued input into the range (0, 1), making it suitable for activation in neural networks.\n",
        "\n",
        "Another important formula is the weight update rule used during backpropagation:\n",
        "\n",
        "![Screenshot_576.png](data:image/png;base64,iVBORw0KGgoAAAANSUhEUgAAAPEAAAAqCAYAAABiMr3lAAAAAXNSR0IArs4c6QAAAARnQU1BAACxjwv8YQUAAAAJcEhZcwAAEnQAABJ0Ad5mH3gAAAjfSURBVHhe7Zzpq01dHMeffwAZIkLIEGUoEZLpBSFkKmUoMmUoU5J3xhcyxRsKhRKRIWMJGSOzkDJPyTyTIevps+p3Wnfdve8959x1zt2b36d2z3XXumev6bvWb1jn+c8oipJq/vN/oShKulARK0rKURErSspREStKylERK0rKURErSspREStKylERK0rKURErSspREStKYJ48eWL27NmT1XP+/Hnz588f/yNyQkWsKIGJEvHKlSvNtGnTSv3+xo0bKmJFSQNXr141GzZs8H8dBBWxohQBFbHyT/L792/z6tUr8+XLF78odSRWxDdv3ixl4/OcOnXK/Pr1yz787JfzXLx4MfM5b968Mfv37y9RfuTIEfP169cS76ssaAft8fvA8/z5c1uH//plPAcOHDDv3r2zdfB9CGT4dRhHpST4lR07djRVqlSxT506dcz48ePNs2fP/KrBiFvP7hzGrYUTJ06Ynz9/+h+ZIZEiRqAzZ840zZo1ywx0tWrVTIsWLcykSZPM9+/fzYcPH8ywYcNM48aNM3Vq1KhhWrdubXbs2JH5rLNnz5rmzZuXmLD+/fvbXTgJXLlyxbRv3962S9rYoEED2w/aDrt27bL/pn9Sh34PGTLEvH371tZhTBgbtw7jt2XLFu+N/zZsdtOnTzeHDx+2Px88eNDUrl3bri8OhUKxePFi07JlyxLzzDt79uxpHjx4YOvcvXvXtGvXLlMucyhrPo5EiljA1Onbt6/tzJw5c/xiy8OHD03Tpk1tnUOHDvnFFiZr3LhxZurUqebbt29+cSKg7fShYcOG5s6dO36xZcGCBbYOYxJnBl6+fNm0atXKnspKaRi3gQMHmqNHj2Z+x0b4+PHjCkdys+HWrVumfv36dh6XLl3qF5t79+7Z9cwh9unTJ784kkSLmBN51KhRtsMTJ070iy0vXrywOxx19u3b5xdb7t+/bwYPHpyY0zeKc+fOmerVq9tTgUmJglQC/ezdu7f5/PmzX2wX4ZIlS4JNKObd2LFjbarib4LNfPjw4ZWyobOmGVPmsUOHDtbdEz5+/Gg3mFWrVuW0oSRaxIB4yxLx9u3bM6YHi9yHwZg3b56tl2SYCAQcJ2JOi+7du9t+smmxefncvn3bLk4xsSsKp9aIESMi25Nmdu7caapWrVqwhV8emPDMI20Qi4ANBTN//vz5Zfq/USRexJjRcSYkJ2uPHj1MrVq1YkVMB0ePHl3qb5MGJjSmdJxbwCSJ/x8lYnb4WbNm2QUSir9VxC9fvrRxCMzaS5cu+cUFR97PXHIqi4B5chUwJF7EYkJGiZiyhQsXZvxmzCQXBodBkgBRknHdAl/ET58+NUOHDjXr1q2z5XXr1i1l4h4/ftxMmDAhr0UQRyFEjIm+e/du6/OxQdNu0j3FhDZww4mxREyFjErHgT/M+9lIWKOY0ZjT+cD8bN682f91EIKK2PcfMB3pOLsaQSvq+CY3PjKLhVMq6bgi3rhxY+b34g6w0xK0ijK5CyE2CPm5bC6rV6+2bUdAFy5csFmERo0a2XiFLGA2XqLEhfBX2SwwpclyTJ48OTPec+fOzckHDYEb4OrTp0/eAi40QUQsUVvXhJQUFKkXEL+ZIJgIFr8Q/xCx54ukBfJ53BRRNriReNctQED0g0kWv5kAGIEwAX8foYdeiKFEjIBnzJhh2713794SZRLTkEgt/cL9KSulkg+0AX+T9J1E7uU0ZK44DIoJ/cO64v2kmf4JERN2J50EiEN8CcCMpo5rcnNyEamtyMJmoNk48nnw13MxE10Rk0oCFh4mMiYnYEJjSlNHTG7ew0lGBD40oUS8Zs0a2+bZs2eXmg9JEXbr1s28f//eCmv9+vUl6kRB+oUxyLbfrAcCSW6AUzbFKPckCtYbcxHiiwV8DlYI4+IGuJJGEBH7qZcoP9f3m8n5cXpVhq+TL1HpNN/PdU1uFjALacWKFVYk+RJ1o00eFnzXrl3t+Ppl8pR3I+zRo0fWfK1Zs6Y1oX2kTwT1WMgDBgywf1MWbpqGzy6vvrQB/9c9ceXdvnsSh5zccX3JFoJpXOogCOkGuJLo9gURseyWMtBRfq6ImAnhimIaUkpRuOm0qFPQFTF9DpFSKrSI8e9pr5y0PuS7yXszv/369YvMMPi4IuZii1xPjQPfm7r+hSEZTx5+Lg8RcbaijwLLgYwK1ytBPtO1NJNEUBHT0a1bt0b6uQhbRMwJxeL3I9n5UExzGkTEWBSYlL6fKwueOsuWLbObWdwFlxBEbSS5Iq6OnzkQXDcilwCPmNPcgy4PSVP6YyUi5vTP5i69mNPlbVxx0NbOnTuXiAu4Aa5s3IhiE0TEMtB0kgFYvnx5KX9E/GbMHIIU4kNWlGIGtkAsiiZNmphevXpZt8DFXfC8gwBQIaK4QggRy8a0du1av8gifcJlOnnypF8cBNoQdXqKq1YM8cTdxnKtiiQGuIKLmG+eRF2dlMmgzpgxY4LmSouJiJgnKnnv+s1sWLluErkSQsTSJzdt5oJVxfxGiSwUvNuP6CMkAm1t27a1efhCEidggbQXY5TEAFcQEeNH4U/RyTg/V0xuzJJr1675xalBfDeuV8b5uXKykbIpdCAkhIixJrBKSKe4Lg4WBIu6S5cuZtCgQbZPWFR8o4eT8cePHyU+pyIQ4CSA5N6IIriEH+qnvEKBK8Z7EWibNm3s+jx27FipA4Z6p0+fNvXq1bNjMHLkSPt3fEsvCQQRsZhb7GRxfq5cWVy0aFHkTpcWWMR8Pa2sq5P4d3w9LdvUSkUIIWK4fv26Xcg8U6ZMsYEdTl9uoCFmfEWitYidSz2+7xoC1kinTp1sGxAKLsu2bdsKsl7wr/GzxaqSh5PWdfXi6vFkE3UvBkFEzGmzadMm+13LOFhs7N6vX7/2i1IFC43gnb9bu5w5c6bUtcxCEUrEIP8nDdwjrAxfPPSZ9E/cRh0C3sm7aUPoyyR/K0FErFQef+tXEZXsURErSspREStKylERK0rKURErSspREStKylERK0rKURErSspREStKyvkfDaUEH3+h9/4AAAAASUVORK5CYII=)\n",
        "\n",
        "\n",
        "The results of training and testing the neural network on the multi-class classification dataset showed promising performance, as evaluated using standard metrics such as accuracy, precision, recall, and F1-score, all obtained through Scikit-learn’s classification_report. A confusion matrix was also generated to visualize the model’s ability to correctly classify each of the five classes, highlighting both the strengths and weaknesses in prediction. The network generally performed well on clearly separable classes but showed some misclassification in classes with overlapping feature distributions. Training loss steadily decreased over epochs, indicating effective learning. Different configurations and hyperparameter settings were tested, including changes in the number of hidden layers, neurons per layer, and learning rates. It was observed that deeper networks with moderate learning rates (e.g., 0.01) led to better generalization, while too high a learning rate caused instability. Additionally, increasing the number of hidden neurons improved accuracy up to a point, after which overfitting began to appear. These experiments demonstrated that while the manually implemented neural network is capable of handling multi-class tasks, its performance and stability are highly sensitive to architectural and training parameter choices.\n"
      ],
      "metadata": {
        "id": "z8kKoKkStlRH"
      }
    },
    {
      "cell_type": "code",
      "execution_count": null,
      "metadata": {
        "colab": {
          "base_uri": "https://localhost:8080/"
        },
        "collapsed": true,
        "id": "c2QDyG-xPxSJ",
        "outputId": "ccfde73a-2463-4097-b88e-15e499915bcc"
      },
      "outputs": [
        {
          "output_type": "stream",
          "name": "stdout",
          "text": [
            "Requirement already satisfied: numpy in /usr/local/lib/python3.11/dist-packages (2.0.2)\n",
            "Requirement already satisfied: matplotlib in /usr/local/lib/python3.11/dist-packages (3.10.0)\n",
            "Requirement already satisfied: scikit-learn in /usr/local/lib/python3.11/dist-packages (1.6.1)\n",
            "Requirement already satisfied: seaborn in /usr/local/lib/python3.11/dist-packages (0.13.2)\n",
            "Requirement already satisfied: contourpy>=1.0.1 in /usr/local/lib/python3.11/dist-packages (from matplotlib) (1.3.2)\n",
            "Requirement already satisfied: cycler>=0.10 in /usr/local/lib/python3.11/dist-packages (from matplotlib) (0.12.1)\n",
            "Requirement already satisfied: fonttools>=4.22.0 in /usr/local/lib/python3.11/dist-packages (from matplotlib) (4.57.0)\n",
            "Requirement already satisfied: kiwisolver>=1.3.1 in /usr/local/lib/python3.11/dist-packages (from matplotlib) (1.4.8)\n",
            "Requirement already satisfied: packaging>=20.0 in /usr/local/lib/python3.11/dist-packages (from matplotlib) (24.2)\n",
            "Requirement already satisfied: pillow>=8 in /usr/local/lib/python3.11/dist-packages (from matplotlib) (11.2.1)\n",
            "Requirement already satisfied: pyparsing>=2.3.1 in /usr/local/lib/python3.11/dist-packages (from matplotlib) (3.2.3)\n",
            "Requirement already satisfied: python-dateutil>=2.7 in /usr/local/lib/python3.11/dist-packages (from matplotlib) (2.9.0.post0)\n",
            "Requirement already satisfied: scipy>=1.6.0 in /usr/local/lib/python3.11/dist-packages (from scikit-learn) (1.15.2)\n",
            "Requirement already satisfied: joblib>=1.2.0 in /usr/local/lib/python3.11/dist-packages (from scikit-learn) (1.4.2)\n",
            "Requirement already satisfied: threadpoolctl>=3.1.0 in /usr/local/lib/python3.11/dist-packages (from scikit-learn) (3.6.0)\n",
            "Requirement already satisfied: pandas>=1.2 in /usr/local/lib/python3.11/dist-packages (from seaborn) (2.2.2)\n",
            "Requirement already satisfied: pytz>=2020.1 in /usr/local/lib/python3.11/dist-packages (from pandas>=1.2->seaborn) (2025.2)\n",
            "Requirement already satisfied: tzdata>=2022.7 in /usr/local/lib/python3.11/dist-packages (from pandas>=1.2->seaborn) (2025.2)\n",
            "Requirement already satisfied: six>=1.5 in /usr/local/lib/python3.11/dist-packages (from python-dateutil>=2.7->matplotlib) (1.17.0)\n"
          ]
        }
      ],
      "source": [
        "!pip install numpy matplotlib scikit-learn seaborn"
      ]
    },
    {
      "cell_type": "code",
      "source": [
        "import numpy as np\n",
        "import matplotlib.pyplot as plt\n",
        "from sklearn.datasets import make_blobs\n",
        "from sklearn.model_selection import train_test_split\n",
        "from sklearn.preprocessing import OneHotEncoder\n",
        "from sklearn.metrics import classification_report, confusion_matrix\n",
        "import seaborn as sns"
      ],
      "metadata": {
        "id": "5vsMqK3QtDqK"
      },
      "execution_count": 1,
      "outputs": []
    },
    {
      "cell_type": "code",
      "source": [
        "np.random.seed(0)"
      ],
      "metadata": {
        "id": "Pf277wYvRf40"
      },
      "execution_count": null,
      "outputs": []
    },
    {
      "cell_type": "code",
      "source": [
        "X, y = make_classification(n_samples=1000, n_features=10, n_classes=5, n_informative=7, n_redundant=0, random_state=0)\n",
        "y = y.reshape(-1, 1)"
      ],
      "metadata": {
        "id": "n5y31ZPiQa8p"
      },
      "execution_count": null,
      "outputs": []
    },
    {
      "cell_type": "code",
      "source": [
        "encoder = OneHotEncoder(sparse_output=False)\n",
        "Y = encoder.fit_transform(y)"
      ],
      "metadata": {
        "id": "yuRxt8UFQl_U"
      },
      "execution_count": null,
      "outputs": []
    },
    {
      "cell_type": "code",
      "source": [
        "X_train, X_test, Y_train, Y_test, y_train_raw, y_test_raw = train_test_split(X, Y, y, test_size=0.2, random_state=42)"
      ],
      "metadata": {
        "id": "FvyfVwu9Q0AQ"
      },
      "execution_count": null,
      "outputs": []
    },
    {
      "cell_type": "code",
      "source": [
        "class NeuralNetwork:\n",
        "    def __init__(self, input_size, hidden_sizes, output_size, learning_rate=0.01):\n",
        "        self.learning_rate = learning_rate\n",
        "\n",
        "        # Initialize weights\n",
        "        self.W1 = np.random.randn(input_size, hidden_sizes[0]) * 0.1\n",
        "        self.W2 = np.random.randn(hidden_sizes[0], hidden_sizes[1]) * 0.1\n",
        "        self.W3 = np.random.randn(hidden_sizes[1], hidden_sizes[2]) * 0.1\n",
        "        self.W4 = np.random.randn(hidden_sizes[2], output_size) * 0.1\n",
        "\n",
        "    def sigmoid(self, x):\n",
        "        return 1 / (1 + np.exp(-x))\n",
        "\n",
        "    def sigmoid_derivative(self, x):\n",
        "        return x * (1 - x)\n",
        "\n",
        "    def softmax(self, x):\n",
        "        e_x = np.exp(x - np.max(x, axis=1, keepdims=True))\n",
        "        return e_x / e_x.sum(axis=1, keepdims=True)\n",
        "\n",
        "    def cross_entropy_loss(self, Y_true, Y_pred):\n",
        "        return -np.sum(Y_true * np.log(Y_pred + 1e-8)) / Y_true.shape[0]\n",
        "\n",
        "    def feedforward(self, X):\n",
        "        self.Z1 = self.sigmoid(np.dot(X, self.W1))\n",
        "        self.Z2 = self.sigmoid(np.dot(self.Z1, self.W2))\n",
        "        self.Z3 = self.sigmoid(np.dot(self.Z2, self.W3))\n",
        "        self.output = self.softmax(np.dot(self.Z3, self.W4))\n",
        "        return self.output\n",
        "\n",
        "    def backpropagation(self, X, Y):\n",
        "        output_error = self.output - Y\n",
        "        dW4 = np.dot(self.Z3.T, output_error)\n",
        "\n",
        "        dZ3 = np.dot(output_error, self.W4.T) * self.sigmoid_derivative(self.Z3)\n",
        "        dW3 = np.dot(self.Z2.T, dZ3)\n",
        "\n",
        "        dZ2 = np.dot(dZ3, self.W3.T) * self.sigmoid_derivative(self.Z2)\n",
        "        dW2 = np.dot(self.Z1.T, dZ2)\n",
        "\n",
        "        dZ1 = np.dot(dZ2, self.W2.T) * self.sigmoid_derivative(self.Z1)\n",
        "        dW1 = np.dot(X.T, dZ1)\n",
        "\n",
        "        # Update weights\n",
        "        self.W4 -= self.learning_rate * dW4\n",
        "        self.W3 -= self.learning_rate * dW3\n",
        "        self.W2 -= self.learning_rate * dW2\n",
        "        self.W1 -= self.learning_rate * dW1\n",
        "\n",
        "    def train(self, X, Y, epochs=500):\n",
        "        loss_history = []\n",
        "        for epoch in range(epochs):\n",
        "            self.feedforward(X)\n",
        "            loss = self.cross_entropy_loss(Y, self.output)\n",
        "            self.backpropagation(X, Y)\n",
        "            loss_history.append(loss)\n",
        "            if epoch % 100 == 0:\n",
        "                print(f\"Epoch {epoch}, Loss: {loss:.4f}\")\n",
        "        return loss_history\n",
        "\n",
        "    def predict(self, X):\n",
        "        output = self.feedforward(X)\n",
        "        return np.argmax(output, axis=1)\n"
      ],
      "metadata": {
        "id": "76jlp93aQ5y2"
      },
      "execution_count": null,
      "outputs": []
    },
    {
      "cell_type": "code",
      "source": [
        "input_size = X_train.shape[1]\n",
        "hidden_sizes = [64, 32, 16]\n",
        "output_size = 5\n",
        "\n",
        "nn = NeuralNetwork(input_size, hidden_sizes, output_size)\n",
        "loss_history = nn.train(X_train, Y_train, epochs=1000)"
      ],
      "metadata": {
        "colab": {
          "base_uri": "https://localhost:8080/"
        },
        "id": "scHmqpm4RCXF",
        "outputId": "4c6b9103-544f-4668-bf37-b062b0f9856e"
      },
      "execution_count": null,
      "outputs": [
        {
          "output_type": "stream",
          "name": "stdout",
          "text": [
            "Epoch 0, Loss: 1.6212\n",
            "Epoch 100, Loss: 1.6095\n",
            "Epoch 200, Loss: 1.6094\n",
            "Epoch 300, Loss: 1.6094\n",
            "Epoch 400, Loss: 1.6094\n",
            "Epoch 500, Loss: 1.6094\n",
            "Epoch 600, Loss: 1.6094\n",
            "Epoch 700, Loss: 1.6094\n",
            "Epoch 800, Loss: 1.6094\n",
            "Epoch 900, Loss: 1.6094\n"
          ]
        }
      ]
    },
    {
      "cell_type": "code",
      "source": [
        "y_pred = nn.predict(X_test)\n",
        "y_true = y_test_raw.flatten()\n",
        "\n",
        "print(\"\\nClassification Report:\\n\")\n",
        "print(classification_report(y_true, y_pred))\n",
        "\n",
        "# Confusion Matrix\n",
        "cm = confusion_matrix(y_true, y_pred)\n",
        "plt.figure(figsize=(8,6))\n",
        "sns.heatmap(cm, annot=True, fmt='d', cmap=\"Blues\", xticklabels=np.arange(5), yticklabels=np.arange(5))\n",
        "plt.title(\"Confusion Matrix\")\n",
        "plt.xlabel(\"Predicted\")\n",
        "plt.ylabel(\"Actual\")\n",
        "plt.show()\n",
        "\n",
        "# Loss Curve\n",
        "plt.plot(loss_history)\n",
        "plt.title(\"Loss over Epochs\")\n",
        "plt.xlabel(\"Epoch\")\n",
        "plt.ylabel(\"Cross-Entropy Loss\")\n",
        "plt.grid(True)\n",
        "plt.show()"
      ],
      "metadata": {
        "id": "47dzayvYRkXK",
        "colab": {
          "base_uri": "https://localhost:8080/",
          "height": 1000
        },
        "outputId": "f91b05db-992d-4f66-ae22-6a80762c9326"
      },
      "execution_count": null,
      "outputs": [
        {
          "output_type": "stream",
          "name": "stdout",
          "text": [
            "\n",
            "Classification Report:\n",
            "\n",
            "              precision    recall  f1-score   support\n",
            "\n",
            "           0       0.00      0.00      0.00        46\n",
            "           1       0.00      0.00      0.00        35\n",
            "           2       0.00      0.00      0.00        38\n",
            "           3       0.00      0.00      0.00        44\n",
            "           4       0.18      1.00      0.31        37\n",
            "\n",
            "    accuracy                           0.18       200\n",
            "   macro avg       0.04      0.20      0.06       200\n",
            "weighted avg       0.03      0.18      0.06       200\n",
            "\n"
          ]
        },
        {
          "output_type": "stream",
          "name": "stderr",
          "text": [
            "/usr/local/lib/python3.11/dist-packages/sklearn/metrics/_classification.py:1565: UndefinedMetricWarning: Precision is ill-defined and being set to 0.0 in labels with no predicted samples. Use `zero_division` parameter to control this behavior.\n",
            "  _warn_prf(average, modifier, f\"{metric.capitalize()} is\", len(result))\n",
            "/usr/local/lib/python3.11/dist-packages/sklearn/metrics/_classification.py:1565: UndefinedMetricWarning: Precision is ill-defined and being set to 0.0 in labels with no predicted samples. Use `zero_division` parameter to control this behavior.\n",
            "  _warn_prf(average, modifier, f\"{metric.capitalize()} is\", len(result))\n",
            "/usr/local/lib/python3.11/dist-packages/sklearn/metrics/_classification.py:1565: UndefinedMetricWarning: Precision is ill-defined and being set to 0.0 in labels with no predicted samples. Use `zero_division` parameter to control this behavior.\n",
            "  _warn_prf(average, modifier, f\"{metric.capitalize()} is\", len(result))\n"
          ]
        },
        {
          "output_type": "display_data",
          "data": {
            "text/plain": [
              "<Figure size 800x600 with 2 Axes>"
            ],
            "image/png": "[encoded data removed]"
          },
          "metadata": {}
        },
        {
          "output_type": "display_data",
          "data": {
            "text/plain": [
              "<Figure size 640x480 with 1 Axes>"
            ],
            "image/png": "[encoded data removed]"
          },
          "metadata": {}
        }
      ]
    }
  ]
}